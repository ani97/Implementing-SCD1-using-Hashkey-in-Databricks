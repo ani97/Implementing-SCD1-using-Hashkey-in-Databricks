{
 "cells": [
  {
   "cell_type": "code",
   "execution_count": 0,
   "metadata": {
    "application/vnd.databricks.v1+cell": {
     "cellMetadata": {
      "byteLimit": 2048000,
      "rowLimit": 10000
     },
     "collapsed": true,
     "inputWidgets": {},
     "nuid": "c05b86a8-7c0f-4121-bc27-9776b8f08026",
     "showTitle": false,
     "tableResultSettingsMap": {},
     "title": ""
    }
   },
   "outputs": [],
   "source": [
    "%run /Workspace/Ncpl/Project7_connection"
   ]
  },
  {
   "cell_type": "code",
   "execution_count": 0,
   "metadata": {
    "application/vnd.databricks.v1+cell": {
     "cellMetadata": {
      "byteLimit": 2048000,
      "rowLimit": 10000
     },
     "inputWidgets": {},
     "nuid": "d39170f7-9130-4b15-b58c-2cfc6f5b0181",
     "showTitle": false,
     "tableResultSettingsMap": {},
     "title": ""
    }
   },
   "outputs": [],
   "source": [
    "sql_df=connect_sql(\"CustomerOrders\")"
   ]
  },
  {
   "cell_type": "code",
   "execution_count": 0,
   "metadata": {
    "application/vnd.databricks.v1+cell": {
     "cellMetadata": {
      "byteLimit": 2048000,
      "rowLimit": 10000
     },
     "inputWidgets": {},
     "nuid": "91727cfb-8c86-423d-8fe8-581c199b3391",
     "showTitle": false,
     "tableResultSettingsMap": {},
     "title": ""
    }
   },
   "outputs": [],
   "source": [
    "display(sql_df)"
   ]
  },
  {
   "cell_type": "markdown",
   "metadata": {
    "application/vnd.databricks.v1+cell": {
     "cellMetadata": {
      "byteLimit": 2048000,
      "rowLimit": 10000
     },
     "inputWidgets": {},
     "nuid": "96e1b574-5912-49ce-8cff-eb656c524ebb",
     "showTitle": false,
     "tableResultSettingsMap": {},
     "title": ""
    }
   },
   "source": [
    "### Data Cleaning"
   ]
  },
  {
   "cell_type": "markdown",
   "metadata": {
    "application/vnd.databricks.v1+cell": {
     "cellMetadata": {
      "byteLimit": 2048000,
      "rowLimit": 10000
     },
     "inputWidgets": {},
     "nuid": "496f21cf-a7a8-4168-a00d-2076d7e6f858",
     "showTitle": false,
     "tableResultSettingsMap": {},
     "title": ""
    }
   },
   "source": [
    "#### 1. remove duplicates"
   ]
  },
  {
   "cell_type": "code",
   "execution_count": 0,
   "metadata": {
    "application/vnd.databricks.v1+cell": {
     "cellMetadata": {
      "byteLimit": 2048000,
      "rowLimit": 10000
     },
     "inputWidgets": {},
     "nuid": "0e71cc9f-d819-45c9-809d-0e9a84024335",
     "showTitle": false,
     "tableResultSettingsMap": {},
     "title": ""
    }
   },
   "outputs": [],
   "source": [
    "df_drop_duplicates=sql_df.drop_duplicates(subset=[\"customer_id\",\"customer_name\"])"
   ]
  },
  {
   "cell_type": "code",
   "execution_count": 0,
   "metadata": {
    "application/vnd.databricks.v1+cell": {
     "cellMetadata": {
      "byteLimit": 2048000,
      "rowLimit": 10000
     },
     "inputWidgets": {},
     "nuid": "c7a0dbe6-9bf3-45a6-80ba-797316f44530",
     "showTitle": false,
     "tableResultSettingsMap": {},
     "title": ""
    }
   },
   "outputs": [],
   "source": [
    "display(df_drop_duplicates)"
   ]
  },
  {
   "cell_type": "markdown",
   "metadata": {
    "application/vnd.databricks.v1+cell": {
     "cellMetadata": {
      "byteLimit": 2048000,
      "rowLimit": 10000
     },
     "inputWidgets": {},
     "nuid": "a1e7770a-e53b-4cd5-b16c-75cf8748c7fa",
     "showTitle": false,
     "tableResultSettingsMap": {},
     "title": ""
    }
   },
   "source": [
    "#### 2. drop extra columns"
   ]
  },
  {
   "cell_type": "code",
   "execution_count": 0,
   "metadata": {
    "application/vnd.databricks.v1+cell": {
     "cellMetadata": {
      "byteLimit": 2048000,
      "rowLimit": 10000
     },
     "inputWidgets": {},
     "nuid": "66a5d80e-ea25-4832-bb0c-085650d2b307",
     "showTitle": false,
     "tableResultSettingsMap": {},
     "title": ""
    }
   },
   "outputs": [],
   "source": [
    "df_select=df_drop_duplicates.select(\"order_id\",\"customer_id\",\"customer_name\",\"product_id\",\"product_name\",\"category\",\"quantity\",\"price\",\"order_date\",\"status\",\"shipping_address\")"
   ]
  },
  {
   "cell_type": "markdown",
   "metadata": {
    "application/vnd.databricks.v1+cell": {
     "cellMetadata": {
      "byteLimit": 2048000,
      "rowLimit": 10000
     },
     "inputWidgets": {},
     "nuid": "dc81be75-ffed-4df8-b8f8-1e5afbe58d15",
     "showTitle": false,
     "tableResultSettingsMap": {},
     "title": ""
    }
   },
   "source": [
    "#### 3. fill null rows"
   ]
  },
  {
   "cell_type": "code",
   "execution_count": 0,
   "metadata": {
    "application/vnd.databricks.v1+cell": {
     "cellMetadata": {
      "byteLimit": 2048000,
      "rowLimit": 10000
     },
     "inputWidgets": {},
     "nuid": "c67a2663-2019-4aa0-9d6d-b53cb3a7146a",
     "showTitle": false,
     "tableResultSettingsMap": {},
     "title": ""
    }
   },
   "outputs": [],
   "source": [
    "from pyspark.sql.functions import *\n",
    "avg_price = float(df_select.agg(avg(\"price\")).collect()[0][0])  # Extracts the scalar value\n",
    "display(avg_price)"
   ]
  },
  {
   "cell_type": "code",
   "execution_count": 0,
   "metadata": {
    "application/vnd.databricks.v1+cell": {
     "cellMetadata": {
      "byteLimit": 2048000,
      "rowLimit": 10000
     },
     "inputWidgets": {},
     "nuid": "1d56a6dc-f20f-483e-9c41-a9720e383068",
     "showTitle": false,
     "tableResultSettingsMap": {},
     "title": ""
    }
   },
   "outputs": [],
   "source": [
    "df_fillna=df_select.fillna({\"customer_name\":\"Unknown\",\"price\":avg_price,\"status\":\"Shipped\",\"shipping_address\":\"Unknown\"})"
   ]
  },
  {
   "cell_type": "code",
   "execution_count": 0,
   "metadata": {
    "application/vnd.databricks.v1+cell": {
     "cellMetadata": {
      "byteLimit": 2048000,
      "rowLimit": 10000
     },
     "inputWidgets": {},
     "nuid": "c768de60-9e9b-4fce-92e8-34c4bd6dfd12",
     "showTitle": false,
     "tableResultSettingsMap": {},
     "title": ""
    }
   },
   "outputs": [],
   "source": [
    "display(df_fillna)"
   ]
  },
  {
   "cell_type": "markdown",
   "metadata": {
    "application/vnd.databricks.v1+cell": {
     "cellMetadata": {
      "byteLimit": 2048000,
      "rowLimit": 10000
     },
     "inputWidgets": {},
     "nuid": "b5861815-06a5-4c63-8868-9e2076c6c224",
     "showTitle": false,
     "tableResultSettingsMap": {},
     "title": ""
    }
   },
   "source": [
    "#### Filter on status shipped"
   ]
  },
  {
   "cell_type": "code",
   "execution_count": 0,
   "metadata": {
    "application/vnd.databricks.v1+cell": {
     "cellMetadata": {
      "byteLimit": 2048000,
      "rowLimit": 10000
     },
     "inputWidgets": {},
     "nuid": "680b6e8d-3aab-46bf-be7b-67d7be9f7f6e",
     "showTitle": false,
     "tableResultSettingsMap": {},
     "title": ""
    }
   },
   "outputs": [],
   "source": [
    "filtered_df=df_fillna.filter(df_fillna.status==\"Shipped\")"
   ]
  },
  {
   "cell_type": "code",
   "execution_count": 0,
   "metadata": {
    "application/vnd.databricks.v1+cell": {
     "cellMetadata": {
      "byteLimit": 2048000,
      "rowLimit": 10000
     },
     "inputWidgets": {},
     "nuid": "0ea80c0b-54a0-4da6-b6a0-ae24d6516ca9",
     "showTitle": false,
     "tableResultSettingsMap": {},
     "title": ""
    }
   },
   "outputs": [],
   "source": [
    "display(filtered_df)"
   ]
  },
  {
   "cell_type": "code",
   "execution_count": 0,
   "metadata": {
    "application/vnd.databricks.v1+cell": {
     "cellMetadata": {
      "byteLimit": 2048000,
      "rowLimit": 10000
     },
     "inputWidgets": {},
     "nuid": "81a2841a-d677-4cb7-995a-4face72518aa",
     "showTitle": false,
     "tableResultSettingsMap": {},
     "title": ""
    }
   },
   "outputs": [],
   "source": [
    "df_hashkey=filtered_df.withColumn(\"hash_key\",crc32(concat(*filtered_df.columns)))"
   ]
  },
  {
   "cell_type": "code",
   "execution_count": 0,
   "metadata": {
    "application/vnd.databricks.v1+cell": {
     "cellMetadata": {
      "byteLimit": 2048000,
      "rowLimit": 10000
     },
     "inputWidgets": {},
     "nuid": "8912c5d7-cd10-4e25-9a52-373532b728a6",
     "showTitle": false,
     "tableResultSettingsMap": {},
     "title": ""
    }
   },
   "outputs": [],
   "source": [
    "display(df_hashkey)"
   ]
  },
  {
   "cell_type": "code",
   "execution_count": 0,
   "metadata": {
    "application/vnd.databricks.v1+cell": {
     "cellMetadata": {
      "byteLimit": 2048000,
      "implicitDf": true,
      "rowLimit": 10000
     },
     "inputWidgets": {},
     "nuid": "3f092274-4dfe-46e7-98a8-85b27a3d3d00",
     "showTitle": false,
     "tableResultSettingsMap": {},
     "title": ""
    }
   },
   "outputs": [],
   "source": [
    "%sql\n",
    "CREATE TABLE IF NOT EXISTS customer_data_shipped_scd1 (\n",
    "    order_id INT,\n",
    "    customer_id INT,\n",
    "    customer_name String,\n",
    "    product_id INT,\n",
    "    product_name String,\n",
    "    category String,\n",
    "    quantity INT,\n",
    "    price DECIMAL(10,2),\n",
    "    order_date DATE,\n",
    "    status String,\n",
    "    shipping_address String,\n",
    "    hashkey bigint,\n",
    "    createdby string,\n",
    "    createddate TIMESTAMP,\n",
    "    updatedby string,\n",
    "    updateddate TIMESTAMP\n",
    "\n",
    ") LOCATION '/mnt/deltatables/customer_data_shipped_scd1';"
   ]
  },
  {
   "cell_type": "code",
   "execution_count": 0,
   "metadata": {
    "application/vnd.databricks.v1+cell": {
     "cellMetadata": {
      "byteLimit": 2048000,
      "rowLimit": 10000
     },
     "inputWidgets": {},
     "nuid": "206cfa14-0035-4e39-83bd-4302f6031295",
     "showTitle": false,
     "tableResultSettingsMap": {},
     "title": ""
    }
   },
   "outputs": [],
   "source": [
    "from delta.tables import DeltaTable\n",
    "deltatbl=DeltaTable.forPath(spark, \"/mnt/deltatables/customer_data_shipped_scd1\")\n",
    "deltatbl.toDF().show()"
   ]
  },
  {
   "cell_type": "code",
   "execution_count": 0,
   "metadata": {
    "application/vnd.databricks.v1+cell": {
     "cellMetadata": {
      "byteLimit": 2048000,
      "rowLimit": 10000
     },
     "inputWidgets": {},
     "nuid": "877c4dce-3e8d-4d7e-8137-e7b78f80614d",
     "showTitle": false,
     "tableResultSettingsMap": {},
     "title": ""
    }
   },
   "outputs": [],
   "source": [
    "df_src = (\n",
    "    df_hashkey.alias(\"src\")\n",
    "    .join(\n",
    "        deltatbl.toDF().alias(\"tgt\"),\n",
    "        (col(\"src.order_id\") == col(\"tgt.order_id\")),  # Join only on id\n",
    "        \"left\"\n",
    "    )\n",
    "    .filter( (col(\"tgt.order_id\").isNull()) | (col(\"src.hash_key\") != col(\"tgt.hashkey\")) )  \n",
    "    .select(\"src.*\"))\n"
   ]
  },
  {
   "cell_type": "code",
   "execution_count": 0,
   "metadata": {
    "application/vnd.databricks.v1+cell": {
     "cellMetadata": {
      "byteLimit": 2048000,
      "rowLimit": 10000
     },
     "inputWidgets": {},
     "nuid": "ed041dc8-689e-4030-b17c-45abb5d2625a",
     "showTitle": false,
     "tableResultSettingsMap": {},
     "title": ""
    }
   },
   "outputs": [],
   "source": [
    "display(df_src)"
   ]
  },
  {
   "cell_type": "code",
   "execution_count": 0,
   "metadata": {
    "application/vnd.databricks.v1+cell": {
     "cellMetadata": {
      "byteLimit": 2048000,
      "rowLimit": 10000
     },
     "inputWidgets": {},
     "nuid": "6e38a2ad-8230-428b-81b7-df505b44634a",
     "showTitle": false,
     "tableResultSettingsMap": {},
     "title": ""
    }
   },
   "outputs": [],
   "source": [
    "deltatbl.alias(\"tgt\").merge(df_src.alias(\"src\"), \"tgt.order_id = src.order_id\") \\\n",
    "    .whenMatchedUpdate(set={\n",
    "        \"tgt.order_id\": \"src.order_id\",\n",
    "        \"tgt.customer_id\": \"src.customer_id\",\n",
    "        \"tgt.customer_name\": \"src.customer_name\",\n",
    "        \"tgt.product_id\": \"src.product_id\",\n",
    "        \"tgt.product_name\": \"src.product_name\",\n",
    "        \"tgt.category\": \"src.category\",\n",
    "        \"tgt.quantity\": \"src.quantity\",\n",
    "        \"tgt.price\": \"src.price\",\n",
    "        \"tgt.order_date\": \"src.order_date\",\n",
    "        \"tgt.status\": \"src.status\",\n",
    "        \"tgt.shipping_address\": \"src.shipping_address\",\n",
    "        \"tgt.hashkey\": \"src.hash_key\",\n",
    "        \"tgt.updatedby\":lit('Aniket-updated'),\n",
    "        \"tgt.updateddate\":current_timestamp()\n",
    "        }\n",
    "        \n",
    "    ) \\\n",
    "    .whenNotMatchedInsert(values={\n",
    "        \"tgt.order_id\": \"src.order_id\",\n",
    "        \"tgt.customer_id\": \"src.customer_id\",\n",
    "        \"tgt.customer_name\": \"src.customer_name\",\n",
    "        \"tgt.product_id\": \"src.product_id\",\n",
    "        \"tgt.product_name\": \"src.product_name\",\n",
    "        \"tgt.category\": \"src.category\",\n",
    "        \"tgt.quantity\": \"src.quantity\",\n",
    "        \"tgt.price\": \"src.price\",\n",
    "        \"tgt.order_date\": \"src.order_date\",\n",
    "        \"tgt.status\": \"src.status\",\n",
    "        \"tgt.shipping_address\": \"src.shipping_address\",\n",
    "        \"tgt.hashkey\": \"src.hash_key\",\n",
    "        \"tgt.createdby\":lit('Aniket'),\n",
    "        \"tgt.createddate\":current_timestamp(),\n",
    "        \"tgt.updatedby\":lit('Aniket'),\n",
    "        \"tgt.updateddate\":current_timestamp()\n",
    "    }\n",
    "\n",
    "    ).execute()"
   ]
  },
  {
   "cell_type": "code",
   "execution_count": 0,
   "metadata": {
    "application/vnd.databricks.v1+cell": {
     "cellMetadata": {
      "byteLimit": 2048000,
      "implicitDf": true,
      "rowLimit": 10000
     },
     "inputWidgets": {},
     "nuid": "e152e072-dab8-445f-89b2-136a831e166b",
     "showTitle": false,
     "tableResultSettingsMap": {},
     "title": ""
    }
   },
   "outputs": [],
   "source": [
    "%sql\n",
    "Select * from customer_data_shipped_scd1"
   ]
  },
  {
   "cell_type": "code",
   "execution_count": 0,
   "metadata": {
    "application/vnd.databricks.v1+cell": {
     "cellMetadata": {
      "byteLimit": 2048000,
      "implicitDf": true,
      "rowLimit": 10000
     },
     "inputWidgets": {},
     "nuid": "5292eb26-3d87-4c00-959a-8f597aee1fcd",
     "showTitle": false,
     "tableResultSettingsMap": {},
     "title": ""
    }
   },
   "outputs": [],
   "source": [
    "%sql\n",
    "describe history customer_data_shipped_scd1"
   ]
  },
  {
   "cell_type": "code",
   "execution_count": 0,
   "metadata": {
    "application/vnd.databricks.v1+cell": {
     "cellMetadata": {
      "byteLimit": 2048000,
      "implicitDf": true,
      "rowLimit": 10000
     },
     "inputWidgets": {},
     "nuid": "48e8d7a7-2653-4917-b608-3d9ccf787857",
     "showTitle": false,
     "tableResultSettingsMap": {},
     "title": ""
    }
   },
   "outputs": [],
   "source": [
    "%sql\n",
    "Select * from customer_data_shipped_scd1@v7"
   ]
  },
  {
   "cell_type": "code",
   "execution_count": 0,
   "metadata": {
    "application/vnd.databricks.v1+cell": {
     "cellMetadata": {
      "byteLimit": 2048000,
      "implicitDf": true,
      "rowLimit": 10000
     },
     "inputWidgets": {},
     "nuid": "dff3f696-6af2-4e0c-b764-76fe4e680daa",
     "showTitle": false,
     "tableResultSettingsMap": {},
     "title": ""
    }
   },
   "outputs": [],
   "source": [
    "%sql\n",
    "SHOW TBLPROPERTIES customer_data_shipped_scd1;"
   ]
  }
 ],
 "metadata": {
  "application/vnd.databricks.v1+notebook": {
   "computePreferences": null,
   "dashboards": [],
   "environmentMetadata": {
    "base_environment": "",
    "environment_version": "2"
   },
   "inputWidgetPreferences": null,
   "language": "python",
   "notebookMetadata": {
    "mostRecentlyExecutedCommandWithImplicitDF": {
     "commandId": 6269767240846200,
     "dataframes": [
      "_sqldf"
     ]
    },
    "pythonIndentUnit": 4
   },
   "notebookName": "Implementing SCD1",
   "widgets": {}
  },
  "language_info": {
   "name": "python"
  }
 },
 "nbformat": 4,
 "nbformat_minor": 0
}
